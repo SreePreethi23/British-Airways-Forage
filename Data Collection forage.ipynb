{
 "cells": [
  {
   "cell_type": "code",
   "execution_count": null,
   "id": "ec338067",
   "metadata": {},
   "outputs": [],
   "source": [
    "import pandas as pd\n",
    "import numpy as np\n",
    "from bs4 import BeautifulSoup\n",
    "import requests\n"
   ]
  },
  {
   "cell_type": "code",
   "execution_count": null,
   "id": "bdd733a9",
   "metadata": {},
   "outputs": [],
   "source": [
    "reviews=[]\n",
    "stars=[]\n",
    "date=[]\n",
    "country=[]"
   ]
  },
  {
   "cell_type": "code",
   "execution_count": null,
   "id": "0f8d0be3",
   "metadata": {},
   "outputs": [],
   "source": [
    "for i in range(1,36):\n",
    "    page=requests.get(f\"https://www.airlinequality.com/airline-reviews/british-airways\")\n",
    "    soup=BeautifulSoup(page.content,\"html5\")\n",
    "    for item in soup.find_all(\"div\", class_=\"text_content\"):\n",
    "        reviews.append(item.text)\n",
    "    for item in soup.find_all(\"div\", class_=\"rating-10\"):\n",
    "        try:\n",
    "            stars.append(item.span.text)\n",
    "        except:\n",
    "            print(f\"Error on page {i}\")\n",
    "            stars.append(\"None\")\n",
    "    for item in soup.find_all(\"time\"):\n",
    "        date.append(item.text)\n",
    "    for item in soup.find_all(\"h3\"):\n",
    "        country.append(item.span.next_sibling.text.strip(\"()\"))\n",
    "                      "
   ]
  },
  {
   "cell_type": "code",
   "execution_count": 21,
   "id": "b563540b",
   "metadata": {},
   "outputs": [
    {
     "data": {
      "text/plain": [
       "700"
      ]
     },
     "execution_count": 21,
     "metadata": {},
     "output_type": "execute_result"
    }
   ],
   "source": [
    "len(reviews)"
   ]
  },
  {
   "cell_type": "code",
   "execution_count": 22,
   "id": "b457a148",
   "metadata": {},
   "outputs": [
    {
     "data": {
      "text/plain": [
       "700"
      ]
     },
     "execution_count": 22,
     "metadata": {},
     "output_type": "execute_result"
    }
   ],
   "source": [
    "len(country)"
   ]
  },
  {
   "cell_type": "code",
   "execution_count": 23,
   "id": "860f95d1",
   "metadata": {},
   "outputs": [],
   "source": [
    "stars=stars[:700]"
   ]
  },
  {
   "cell_type": "code",
   "execution_count": 24,
   "id": "7f92446f",
   "metadata": {},
   "outputs": [],
   "source": [
    "df=pd.DataFrame({\"reviews\":reviews, \"stars\":stars, \"date\":date, \"country\":country})"
   ]
  },
  {
   "cell_type": "code",
   "execution_count": 25,
   "id": "6af34f8f",
   "metadata": {},
   "outputs": [
    {
     "data": {
      "text/html": [
       "<div>\n",
       "<style scoped>\n",
       "    .dataframe tbody tr th:only-of-type {\n",
       "        vertical-align: middle;\n",
       "    }\n",
       "\n",
       "    .dataframe tbody tr th {\n",
       "        vertical-align: top;\n",
       "    }\n",
       "\n",
       "    .dataframe thead th {\n",
       "        text-align: right;\n",
       "    }\n",
       "</style>\n",
       "<table border=\"1\" class=\"dataframe\">\n",
       "  <thead>\n",
       "    <tr style=\"text-align: right;\">\n",
       "      <th></th>\n",
       "      <th>reviews</th>\n",
       "      <th>stars</th>\n",
       "      <th>date</th>\n",
       "      <th>country</th>\n",
       "    </tr>\n",
       "  </thead>\n",
       "  <tbody>\n",
       "    <tr>\n",
       "      <th>0</th>\n",
       "      <td>✅ Trip Verified |  Check-in Desk rude and dism...</td>\n",
       "      <td>\\n\\t\\t\\t\\t\\t\\t\\t\\t\\t\\t\\t\\t\\t5</td>\n",
       "      <td>26th July 2023</td>\n",
       "      <td>(United Kingdom)</td>\n",
       "    </tr>\n",
       "    <tr>\n",
       "      <th>1</th>\n",
       "      <td>✅ Trip Verified | I chose British Airways espe...</td>\n",
       "      <td>2</td>\n",
       "      <td>25th July 2023</td>\n",
       "      <td>(Spain)</td>\n",
       "    </tr>\n",
       "    <tr>\n",
       "      <th>2</th>\n",
       "      <td>Not Verified | I booked Premium Economy from I...</td>\n",
       "      <td>1</td>\n",
       "      <td>24th July 2023</td>\n",
       "      <td>(United Kingdom)</td>\n",
       "    </tr>\n",
       "    <tr>\n",
       "      <th>3</th>\n",
       "      <td>✅ Trip Verified | A simple story with an unfor...</td>\n",
       "      <td>1</td>\n",
       "      <td>21st July 2023</td>\n",
       "      <td>(Germany)</td>\n",
       "    </tr>\n",
       "    <tr>\n",
       "      <th>4</th>\n",
       "      <td>✅ Trip Verified |  Flight was delayed due to t...</td>\n",
       "      <td>1</td>\n",
       "      <td>21st July 2023</td>\n",
       "      <td>(United Kingdom)</td>\n",
       "    </tr>\n",
       "  </tbody>\n",
       "</table>\n",
       "</div>"
      ],
      "text/plain": [
       "                                             reviews  \\\n",
       "0  ✅ Trip Verified |  Check-in Desk rude and dism...   \n",
       "1  ✅ Trip Verified | I chose British Airways espe...   \n",
       "2  Not Verified | I booked Premium Economy from I...   \n",
       "3  ✅ Trip Verified | A simple story with an unfor...   \n",
       "4  ✅ Trip Verified |  Flight was delayed due to t...   \n",
       "\n",
       "                           stars            date             country  \n",
       "0  \\n\\t\\t\\t\\t\\t\\t\\t\\t\\t\\t\\t\\t\\t5  26th July 2023   (United Kingdom)   \n",
       "1                              2  25th July 2023            (Spain)   \n",
       "2                              1  24th July 2023   (United Kingdom)   \n",
       "3                              1  21st July 2023          (Germany)   \n",
       "4                              1  21st July 2023   (United Kingdom)   "
      ]
     },
     "execution_count": 25,
     "metadata": {},
     "output_type": "execute_result"
    }
   ],
   "source": [
    "df.head()"
   ]
  },
  {
   "cell_type": "code",
   "execution_count": 27,
   "id": "cb375efd",
   "metadata": {},
   "outputs": [
    {
     "data": {
      "text/plain": [
       "(700, 4)"
      ]
     },
     "execution_count": 27,
     "metadata": {},
     "output_type": "execute_result"
    }
   ],
   "source": [
    "df.shape"
   ]
  },
  {
   "cell_type": "code",
   "execution_count": 28,
   "id": "677e328b",
   "metadata": {},
   "outputs": [],
   "source": [
    "import os\n",
    "cwd=os.getcwd()\n",
    "df.to_csv(cwd+\"/BA_reviews.csv\")\n"
   ]
  },
  {
   "cell_type": "code",
   "execution_count": null,
   "id": "9f88094a",
   "metadata": {},
   "outputs": [],
   "source": []
  }
 ],
 "metadata": {
  "kernelspec": {
   "display_name": "Python 3 (ipykernel)",
   "language": "python",
   "name": "python3"
  },
  "language_info": {
   "codemirror_mode": {
    "name": "ipython",
    "version": 3
   },
   "file_extension": ".py",
   "mimetype": "text/x-python",
   "name": "python",
   "nbconvert_exporter": "python",
   "pygments_lexer": "ipython3",
   "version": "3.9.13"
  }
 },
 "nbformat": 4,
 "nbformat_minor": 5
}
