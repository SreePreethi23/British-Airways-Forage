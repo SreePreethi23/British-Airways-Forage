{
 "cells": [
  {
   "cell_type": "code",
   "execution_count": 14,
   "id": "0be98b87",
   "metadata": {},
   "outputs": [],
   "source": [
    "import pandas as pd\n",
    "import matplotlib.pyplot as plt\n",
    "import seaborn as sns\n",
    "import os\n",
    "import re\n"
   ]
  },
  {
   "cell_type": "code",
   "execution_count": 15,
   "id": "dfca1038",
   "metadata": {},
   "outputs": [],
   "source": [
    "cwd=os.getcwd()\n",
    "df=pd.read_csv(cwd+\"/BA_reviews.csv\", index_col=0)"
   ]
  },
  {
   "cell_type": "code",
   "execution_count": 16,
   "id": "c8d2728d",
   "metadata": {},
   "outputs": [
    {
     "data": {
      "text/html": [
       "<div>\n",
       "<style scoped>\n",
       "    .dataframe tbody tr th:only-of-type {\n",
       "        vertical-align: middle;\n",
       "    }\n",
       "\n",
       "    .dataframe tbody tr th {\n",
       "        vertical-align: top;\n",
       "    }\n",
       "\n",
       "    .dataframe thead th {\n",
       "        text-align: right;\n",
       "    }\n",
       "</style>\n",
       "<table border=\"1\" class=\"dataframe\">\n",
       "  <thead>\n",
       "    <tr style=\"text-align: right;\">\n",
       "      <th></th>\n",
       "      <th>reviews</th>\n",
       "      <th>stars</th>\n",
       "      <th>date</th>\n",
       "      <th>country</th>\n",
       "    </tr>\n",
       "  </thead>\n",
       "  <tbody>\n",
       "    <tr>\n",
       "      <th>0</th>\n",
       "      <td>✅ Trip Verified |  Check-in Desk rude and dism...</td>\n",
       "      <td>5</td>\n",
       "      <td>26th July 2023</td>\n",
       "      <td>(United Kingdom)</td>\n",
       "    </tr>\n",
       "    <tr>\n",
       "      <th>1</th>\n",
       "      <td>✅ Trip Verified | I chose British Airways espe...</td>\n",
       "      <td>2</td>\n",
       "      <td>25th July 2023</td>\n",
       "      <td>(Spain)</td>\n",
       "    </tr>\n",
       "    <tr>\n",
       "      <th>2</th>\n",
       "      <td>Not Verified | I booked Premium Economy from I...</td>\n",
       "      <td>1</td>\n",
       "      <td>24th July 2023</td>\n",
       "      <td>(United Kingdom)</td>\n",
       "    </tr>\n",
       "    <tr>\n",
       "      <th>3</th>\n",
       "      <td>✅ Trip Verified | A simple story with an unfor...</td>\n",
       "      <td>1</td>\n",
       "      <td>21st July 2023</td>\n",
       "      <td>(Germany)</td>\n",
       "    </tr>\n",
       "    <tr>\n",
       "      <th>4</th>\n",
       "      <td>✅ Trip Verified |  Flight was delayed due to t...</td>\n",
       "      <td>1</td>\n",
       "      <td>21st July 2023</td>\n",
       "      <td>(United Kingdom)</td>\n",
       "    </tr>\n",
       "  </tbody>\n",
       "</table>\n",
       "</div>"
      ],
      "text/plain": [
       "                                             reviews  stars            date  \\\n",
       "0  ✅ Trip Verified |  Check-in Desk rude and dism...      5  26th July 2023   \n",
       "1  ✅ Trip Verified | I chose British Airways espe...      2  25th July 2023   \n",
       "2  Not Verified | I booked Premium Economy from I...      1  24th July 2023   \n",
       "3  ✅ Trip Verified | A simple story with an unfor...      1  21st July 2023   \n",
       "4  ✅ Trip Verified |  Flight was delayed due to t...      1  21st July 2023   \n",
       "\n",
       "              country  \n",
       "0   (United Kingdom)   \n",
       "1            (Spain)   \n",
       "2   (United Kingdom)   \n",
       "3          (Germany)   \n",
       "4   (United Kingdom)   "
      ]
     },
     "execution_count": 16,
     "metadata": {},
     "output_type": "execute_result"
    }
   ],
   "source": [
    "df.head()"
   ]
  },
  {
   "cell_type": "code",
   "execution_count": 17,
   "id": "e73a9a49",
   "metadata": {},
   "outputs": [],
   "source": [
    "df['verified']=df.reviews.str.contains(\"Trip Verified\")"
   ]
  },
  {
   "cell_type": "code",
   "execution_count": 18,
   "id": "b0ad8b35",
   "metadata": {},
   "outputs": [
    {
     "data": {
      "text/plain": [
       "0       True\n",
       "1       True\n",
       "2      False\n",
       "3       True\n",
       "4       True\n",
       "       ...  \n",
       "695    False\n",
       "696     True\n",
       "697    False\n",
       "698     True\n",
       "699     True\n",
       "Name: verified, Length: 700, dtype: bool"
      ]
     },
     "execution_count": 18,
     "metadata": {},
     "output_type": "execute_result"
    }
   ],
   "source": [
    "df['verified']"
   ]
  },
  {
   "cell_type": "code",
   "execution_count": 21,
   "id": "f7a6b6ab",
   "metadata": {},
   "outputs": [],
   "source": [
    "from nltk.stem import WordNetLemmatizer\n",
    "from nltk.corpus import stopwords\n",
    "lemma=WordNetLemmatizer()\n",
    "reviews_data=df.reviews.str.strip(\"Trip Verified |\")\n",
    "corpus=[]\n",
    "for rev in reviews_data:\n",
    "    rev=re.sub('[^a-zA-Z]',' ',rev)\n",
    "    rev=rev.lower()\n",
    "    rev=rev.split()\n",
    "    rev=[lemma.lemmatize(word)for word in rev if word not in set(stopwords.words(\"english\"))]\n",
    "    rev=\" \".join(rev)\n",
    "    corpus.append(rev)\n",
    "                                                                 \n",
    "                                                                 "
   ]
  },
  {
   "cell_type": "code",
   "execution_count": 22,
   "id": "a1fae70c",
   "metadata": {},
   "outputs": [],
   "source": [
    "df['corpus']=corpus"
   ]
  },
  {
   "cell_type": "code",
   "execution_count": 23,
   "id": "dc279ee4",
   "metadata": {},
   "outputs": [
    {
     "data": {
      "text/html": [
       "<div>\n",
       "<style scoped>\n",
       "    .dataframe tbody tr th:only-of-type {\n",
       "        vertical-align: middle;\n",
       "    }\n",
       "\n",
       "    .dataframe tbody tr th {\n",
       "        vertical-align: top;\n",
       "    }\n",
       "\n",
       "    .dataframe thead th {\n",
       "        text-align: right;\n",
       "    }\n",
       "</style>\n",
       "<table border=\"1\" class=\"dataframe\">\n",
       "  <thead>\n",
       "    <tr style=\"text-align: right;\">\n",
       "      <th></th>\n",
       "      <th>reviews</th>\n",
       "      <th>stars</th>\n",
       "      <th>date</th>\n",
       "      <th>country</th>\n",
       "      <th>verified</th>\n",
       "      <th>corpus</th>\n",
       "    </tr>\n",
       "  </thead>\n",
       "  <tbody>\n",
       "    <tr>\n",
       "      <th>0</th>\n",
       "      <td>✅ Trip Verified |  Check-in Desk rude and dism...</td>\n",
       "      <td>5</td>\n",
       "      <td>26th July 2023</td>\n",
       "      <td>(United Kingdom)</td>\n",
       "      <td>True</td>\n",
       "      <td>trip verified check desk rude dismissive fligh...</td>\n",
       "    </tr>\n",
       "    <tr>\n",
       "      <th>1</th>\n",
       "      <td>✅ Trip Verified | I chose British Airways espe...</td>\n",
       "      <td>2</td>\n",
       "      <td>25th July 2023</td>\n",
       "      <td>(Spain)</td>\n",
       "      <td>True</td>\n",
       "      <td>trip verified chose british airway especially ...</td>\n",
       "    </tr>\n",
       "    <tr>\n",
       "      <th>2</th>\n",
       "      <td>Not Verified | I booked Premium Economy from I...</td>\n",
       "      <td>1</td>\n",
       "      <td>24th July 2023</td>\n",
       "      <td>(United Kingdom)</td>\n",
       "      <td>False</td>\n",
       "      <td>verified booked premium economy inv lax via lh...</td>\n",
       "    </tr>\n",
       "    <tr>\n",
       "      <th>3</th>\n",
       "      <td>✅ Trip Verified | A simple story with an unfor...</td>\n",
       "      <td>1</td>\n",
       "      <td>21st July 2023</td>\n",
       "      <td>(Germany)</td>\n",
       "      <td>True</td>\n",
       "      <td>trip verified simple story unfortunate outcome...</td>\n",
       "    </tr>\n",
       "    <tr>\n",
       "      <th>4</th>\n",
       "      <td>✅ Trip Verified |  Flight was delayed due to t...</td>\n",
       "      <td>1</td>\n",
       "      <td>21st July 2023</td>\n",
       "      <td>(United Kingdom)</td>\n",
       "      <td>True</td>\n",
       "      <td>trip verified flight delayed due inbound fligh...</td>\n",
       "    </tr>\n",
       "  </tbody>\n",
       "</table>\n",
       "</div>"
      ],
      "text/plain": [
       "                                             reviews  stars            date  \\\n",
       "0  ✅ Trip Verified |  Check-in Desk rude and dism...      5  26th July 2023   \n",
       "1  ✅ Trip Verified | I chose British Airways espe...      2  25th July 2023   \n",
       "2  Not Verified | I booked Premium Economy from I...      1  24th July 2023   \n",
       "3  ✅ Trip Verified | A simple story with an unfor...      1  21st July 2023   \n",
       "4  ✅ Trip Verified |  Flight was delayed due to t...      1  21st July 2023   \n",
       "\n",
       "              country  verified  \\\n",
       "0   (United Kingdom)       True   \n",
       "1            (Spain)       True   \n",
       "2   (United Kingdom)      False   \n",
       "3          (Germany)       True   \n",
       "4   (United Kingdom)       True   \n",
       "\n",
       "                                              corpus  \n",
       "0  trip verified check desk rude dismissive fligh...  \n",
       "1  trip verified chose british airway especially ...  \n",
       "2  verified booked premium economy inv lax via lh...  \n",
       "3  trip verified simple story unfortunate outcome...  \n",
       "4  trip verified flight delayed due inbound fligh...  "
      ]
     },
     "execution_count": 23,
     "metadata": {},
     "output_type": "execute_result"
    }
   ],
   "source": [
    "df.head()"
   ]
  },
  {
   "cell_type": "code",
   "execution_count": 29,
   "id": "ac519177",
   "metadata": {},
   "outputs": [
    {
     "data": {
      "text/plain": [
       "array([nan,  1.,  3.])"
      ]
     },
     "execution_count": 29,
     "metadata": {},
     "output_type": "execute_result"
    }
   ],
   "source": [
    "df.stars.unique()"
   ]
  },
  {
   "cell_type": "code",
   "execution_count": 30,
   "id": "c26f6593",
   "metadata": {},
   "outputs": [],
   "source": [
    "df.stars=df.stars.value_counts()"
   ]
  },
  {
   "cell_type": "code",
   "execution_count": 31,
   "id": "8f6ce4ed",
   "metadata": {},
   "outputs": [],
   "source": [
    "df.drop(df[df.stars==\"None\"].index, axis=0, inplace=True)"
   ]
  },
  {
   "cell_type": "code",
   "execution_count": 32,
   "id": "be88d55d",
   "metadata": {},
   "outputs": [
    {
     "data": {
      "text/plain": [
       "array([nan,  3.,  1.])"
      ]
     },
     "execution_count": 32,
     "metadata": {},
     "output_type": "execute_result"
    }
   ],
   "source": [
    "df.stars.unique()"
   ]
  },
  {
   "cell_type": "code",
   "execution_count": 33,
   "id": "83067407",
   "metadata": {},
   "outputs": [
    {
     "data": {
      "text/plain": [
       "reviews  stars  date   country  verified  corpus\n",
       "False    True   False  False    False     False     698\n",
       "         False  False  False    False     False       2\n",
       "dtype: int64"
      ]
     },
     "execution_count": 33,
     "metadata": {},
     "output_type": "execute_result"
    }
   ],
   "source": [
    "df.isnull().value_counts()"
   ]
  },
  {
   "cell_type": "code",
   "execution_count": 34,
   "id": "8f4193d8",
   "metadata": {},
   "outputs": [
    {
     "data": {
      "text/plain": [
       "False    700\n",
       "Name: country, dtype: int64"
      ]
     },
     "execution_count": 34,
     "metadata": {},
     "output_type": "execute_result"
    }
   ],
   "source": [
    "df.country.isnull().value_counts()"
   ]
  },
  {
   "cell_type": "code",
   "execution_count": 36,
   "id": "fa0a6061",
   "metadata": {},
   "outputs": [],
   "source": [
    "df.drop(df[df.country.isnull()==True].index, axis=0, inplace=True)"
   ]
  },
  {
   "cell_type": "code",
   "execution_count": 37,
   "id": "6ab22e53",
   "metadata": {},
   "outputs": [
    {
     "data": {
      "text/html": [
       "<div>\n",
       "<style scoped>\n",
       "    .dataframe tbody tr th:only-of-type {\n",
       "        vertical-align: middle;\n",
       "    }\n",
       "\n",
       "    .dataframe tbody tr th {\n",
       "        vertical-align: top;\n",
       "    }\n",
       "\n",
       "    .dataframe thead th {\n",
       "        text-align: right;\n",
       "    }\n",
       "</style>\n",
       "<table border=\"1\" class=\"dataframe\">\n",
       "  <thead>\n",
       "    <tr style=\"text-align: right;\">\n",
       "      <th></th>\n",
       "      <th>reviews</th>\n",
       "      <th>stars</th>\n",
       "      <th>date</th>\n",
       "      <th>country</th>\n",
       "      <th>verified</th>\n",
       "      <th>corpus</th>\n",
       "    </tr>\n",
       "  </thead>\n",
       "  <tbody>\n",
       "    <tr>\n",
       "      <th>0</th>\n",
       "      <td>✅ Trip Verified |  Check-in Desk rude and dism...</td>\n",
       "      <td>NaN</td>\n",
       "      <td>26th July 2023</td>\n",
       "      <td>(United Kingdom)</td>\n",
       "      <td>True</td>\n",
       "      <td>trip verified check desk rude dismissive fligh...</td>\n",
       "    </tr>\n",
       "    <tr>\n",
       "      <th>1</th>\n",
       "      <td>✅ Trip Verified | I chose British Airways espe...</td>\n",
       "      <td>3.0</td>\n",
       "      <td>25th July 2023</td>\n",
       "      <td>(Spain)</td>\n",
       "      <td>True</td>\n",
       "      <td>trip verified chose british airway especially ...</td>\n",
       "    </tr>\n",
       "    <tr>\n",
       "      <th>2</th>\n",
       "      <td>Not Verified | I booked Premium Economy from I...</td>\n",
       "      <td>NaN</td>\n",
       "      <td>24th July 2023</td>\n",
       "      <td>(United Kingdom)</td>\n",
       "      <td>False</td>\n",
       "      <td>verified booked premium economy inv lax via lh...</td>\n",
       "    </tr>\n",
       "    <tr>\n",
       "      <th>3</th>\n",
       "      <td>✅ Trip Verified | A simple story with an unfor...</td>\n",
       "      <td>1.0</td>\n",
       "      <td>21st July 2023</td>\n",
       "      <td>(Germany)</td>\n",
       "      <td>True</td>\n",
       "      <td>trip verified simple story unfortunate outcome...</td>\n",
       "    </tr>\n",
       "    <tr>\n",
       "      <th>4</th>\n",
       "      <td>✅ Trip Verified |  Flight was delayed due to t...</td>\n",
       "      <td>NaN</td>\n",
       "      <td>21st July 2023</td>\n",
       "      <td>(United Kingdom)</td>\n",
       "      <td>True</td>\n",
       "      <td>trip verified flight delayed due inbound fligh...</td>\n",
       "    </tr>\n",
       "    <tr>\n",
       "      <th>...</th>\n",
       "      <td>...</td>\n",
       "      <td>...</td>\n",
       "      <td>...</td>\n",
       "      <td>...</td>\n",
       "      <td>...</td>\n",
       "      <td>...</td>\n",
       "    </tr>\n",
       "    <tr>\n",
       "      <th>695</th>\n",
       "      <td>Not Verified |  Fast and friendly check in (to...</td>\n",
       "      <td>NaN</td>\n",
       "      <td>20th July 2023</td>\n",
       "      <td>(United Kingdom)</td>\n",
       "      <td>False</td>\n",
       "      <td>verified fast friendly check total contrast ga...</td>\n",
       "    </tr>\n",
       "    <tr>\n",
       "      <th>696</th>\n",
       "      <td>✅ Trip Verified |  I don't understand why Brit...</td>\n",
       "      <td>NaN</td>\n",
       "      <td>20th July 2023</td>\n",
       "      <td>(United Kingdom)</td>\n",
       "      <td>True</td>\n",
       "      <td>trip verified understand british airway classi...</td>\n",
       "    </tr>\n",
       "    <tr>\n",
       "      <th>697</th>\n",
       "      <td>Not Verified |  I'm sure that BA have graduall...</td>\n",
       "      <td>NaN</td>\n",
       "      <td>20th July 2023</td>\n",
       "      <td>(United Kingdom)</td>\n",
       "      <td>False</td>\n",
       "      <td>verified sure ba gradually made economy experi...</td>\n",
       "    </tr>\n",
       "    <tr>\n",
       "      <th>698</th>\n",
       "      <td>✅ Trip Verified |  Customer Service does not e...</td>\n",
       "      <td>NaN</td>\n",
       "      <td>18th July 2023</td>\n",
       "      <td>(United Kingdom)</td>\n",
       "      <td>True</td>\n",
       "      <td>trip verified customer service exist one world...</td>\n",
       "    </tr>\n",
       "    <tr>\n",
       "      <th>699</th>\n",
       "      <td>✅ Trip Verified | Another really great pair of...</td>\n",
       "      <td>NaN</td>\n",
       "      <td>17th July 2023</td>\n",
       "      <td>(United Kingdom)</td>\n",
       "      <td>True</td>\n",
       "      <td>trip verified another really great pair flight...</td>\n",
       "    </tr>\n",
       "  </tbody>\n",
       "</table>\n",
       "<p>700 rows × 6 columns</p>\n",
       "</div>"
      ],
      "text/plain": [
       "                                               reviews  stars            date  \\\n",
       "0    ✅ Trip Verified |  Check-in Desk rude and dism...    NaN  26th July 2023   \n",
       "1    ✅ Trip Verified | I chose British Airways espe...    3.0  25th July 2023   \n",
       "2    Not Verified | I booked Premium Economy from I...    NaN  24th July 2023   \n",
       "3    ✅ Trip Verified | A simple story with an unfor...    1.0  21st July 2023   \n",
       "4    ✅ Trip Verified |  Flight was delayed due to t...    NaN  21st July 2023   \n",
       "..                                                 ...    ...             ...   \n",
       "695  Not Verified |  Fast and friendly check in (to...    NaN  20th July 2023   \n",
       "696  ✅ Trip Verified |  I don't understand why Brit...    NaN  20th July 2023   \n",
       "697  Not Verified |  I'm sure that BA have graduall...    NaN  20th July 2023   \n",
       "698  ✅ Trip Verified |  Customer Service does not e...    NaN  18th July 2023   \n",
       "699  ✅ Trip Verified | Another really great pair of...    NaN  17th July 2023   \n",
       "\n",
       "                country  verified  \\\n",
       "0     (United Kingdom)       True   \n",
       "1              (Spain)       True   \n",
       "2     (United Kingdom)      False   \n",
       "3            (Germany)       True   \n",
       "4     (United Kingdom)       True   \n",
       "..                  ...       ...   \n",
       "695   (United Kingdom)      False   \n",
       "696   (United Kingdom)       True   \n",
       "697   (United Kingdom)      False   \n",
       "698   (United Kingdom)       True   \n",
       "699   (United Kingdom)       True   \n",
       "\n",
       "                                                corpus  \n",
       "0    trip verified check desk rude dismissive fligh...  \n",
       "1    trip verified chose british airway especially ...  \n",
       "2    verified booked premium economy inv lax via lh...  \n",
       "3    trip verified simple story unfortunate outcome...  \n",
       "4    trip verified flight delayed due inbound fligh...  \n",
       "..                                                 ...  \n",
       "695  verified fast friendly check total contrast ga...  \n",
       "696  trip verified understand british airway classi...  \n",
       "697  verified sure ba gradually made economy experi...  \n",
       "698  trip verified customer service exist one world...  \n",
       "699  trip verified another really great pair flight...  \n",
       "\n",
       "[700 rows x 6 columns]"
      ]
     },
     "execution_count": 37,
     "metadata": {},
     "output_type": "execute_result"
    }
   ],
   "source": [
    "df.reset_index(drop=True)"
   ]
  },
  {
   "cell_type": "code",
   "execution_count": null,
   "id": "03475e62",
   "metadata": {},
   "outputs": [],
   "source": []
  }
 ],
 "metadata": {
  "kernelspec": {
   "display_name": "Python 3 (ipykernel)",
   "language": "python",
   "name": "python3"
  },
  "language_info": {
   "codemirror_mode": {
    "name": "ipython",
    "version": 3
   },
   "file_extension": ".py",
   "mimetype": "text/x-python",
   "name": "python",
   "nbconvert_exporter": "python",
   "pygments_lexer": "ipython3",
   "version": "3.9.13"
  }
 },
 "nbformat": 4,
 "nbformat_minor": 5
}
